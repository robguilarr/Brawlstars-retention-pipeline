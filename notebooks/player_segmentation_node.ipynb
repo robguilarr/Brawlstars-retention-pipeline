{
 "cells": [
  {
   "cell_type": "markdown",
   "source": [
    "# Player Segmentation Node\n",
    "\n",
    "For clustering players based on their attributes, we can use *unsupervised machine\n",
    "learning* algorithms such as K-Means or Hierarchical clustering.\n",
    "\n",
    "**K-Means** is a popular algorithm for clustering data points into a specified number\n",
    " of clusters based on similarity in their attributes. **Hierarchical clustering**, on\n",
    "  the other hand, creates a hierarchy of clusters and sub-clusters based on the\n",
    "  similarity of their attributes.\n",
    "\n",
    "## Which one to use?\n",
    "\n",
    "To decide which algorithm to use, I considered the size of the dataset\n",
    "and the desired number of clusters. **K-Means** is computationally faster and efficient\n",
    "for larger datasets, while **Hierarchical clustering** is suitable for smaller datasets.\n",
    "\n",
    "The main difference between the two algorithms lies in their approach to form\n",
    "clusters:\n",
    "\n",
    "> `K-Means` is a **partition-based** clustering algorithm that groups data points into a\n",
    "> pre-defined number of clusters. It starts by selecting **random centroids**\n",
    "> (cluster centers) and then iteratively assigns each data point to the nearest\n",
    "> centroid based on the distance metric. After all the points are assigned, the\n",
    "> centroids are updated by taking the mean of all the points in the cluster. The\n",
    "> algorithm repeats the process until the centroids no longer change, and the\n",
    "> clusters become stable.\n",
    "\n",
    "> `Hierarchical clustering` is a **connectivity-based** clustering algorithm that\n",
    "> does not require a pre-defined number of clusters. It creates a hierarchy of\n",
    "> clusters by iteratively merging or splitting clusters based on the similarity of\n",
    "> their attributes. Hierarchical clustering can be performed in **two ways**:\n",
    "> `agglomerative` and `divisive`. In `agglomerative` clustering, each data point\n",
    "> starts in its own cluster, and clusters are successively merged until only one\n",
    "> cluster remains. In `divisive` clustering, all data points start in one cluster,\n",
    "> and clusters are successively split until each data point is in its own cluster.\n",
    "\n",
    "To summarize, **K-Means** algorithm partitions the data into a fixed number of clusters\n",
    "and iteratively optimizes the centroid positions to minimize the distance between\n",
    "data points and their assigned cluster. **Hierarchical clustering**, on the other hand,\n",
    "creates a hierarchy of clusters based on the similarity between the data points and\n",
    "iteratively merges or splits clusters to form the final clusters.\n",
    "\n",
    "## What can I analyze with the player metadata?\n",
    "\n",
    "Based on the player metadata, we can use the following criteria to cluster the players:\n",
    "\n",
    "- `Trophies`: The number of trophies a player has earned in the game is a significant\n",
    " indicator of their performance level and skill.\n",
    "- `3v3 Victories`: This attribute shows how many 3v3 matches the player has won,\n",
    "which could be an indication of their teamwork ability.\n",
    "- `Solo Victories and Duo Victories`: These attributes represent how many Solo or Duo\n",
    " matches the player has won, indicating their ability to play effectively without the\n",
    "  support of teammates.\n",
    "- `Best RoboRumbleTime`: This attribute represents the player's best time in\n",
    "defeating the robots in the Robo Rumble event, which indicates their skill in\n",
    "handling PvE (player versus environment) situations."
   ],
   "metadata": {
    "collapsed": false
   }
  },
  {
   "cell_type": "code",
   "execution_count": 253,
   "metadata": {
    "collapsed": true
   },
   "outputs": [],
   "source": [
    "#import warnings\n",
    "#warnings.filterwarnings('ignore')\n",
    "\n",
    "# Set up notebook\n",
    "import pandas as pd\n",
    "import numpy as np\n",
    "import matplotlib.pyplot as plt\n",
    "\n",
    "home_directory = \"C:/Users/rober/PycharmProjects/Brawlstars-retention-pipeline\"\n",
    "\n",
    "metadata_prepared = pd.read_csv(\n",
    "    filepath_or_buffer=home_directory +\n",
    "                       \"/data/03_raw_metadata/metadata_prepared_original.csv\"\n",
    ")"
   ]
  },
  {
   "cell_type": "markdown",
   "source": [
    "Said this the classification will be performed using a **K-Means** algorithm.\n",
    "\n",
    "## Data Preparation\n",
    "\n",
    "Let's start by checking the NaN values"
   ],
   "metadata": {
    "collapsed": false
   }
  },
  {
   "cell_type": "code",
   "execution_count": 254,
   "outputs": [
    {
     "data": {
      "text/plain": "    player_id  trophies  highestTrophies  highestPowerPlayPoints  expLevel  \\\n0   #8Y9QGR0U     41103            42113                   544.0       247   \n1   #99QU9PU2     51754            55004                  1204.0       411   \n2    #GG9YJJY     21897            35635                  1013.0       310   \n3     #VJUQ0Y     57372            61076                  1380.0       412   \n4  #PJGGV2Q80     59129            61757                  1362.0       359   \n\n   expPoints  3vs3Victories  soloVictories  duoVictories  bestRoboRumbleTime  \n0     313184          18746           1332           663                   1  \n1     858011          64497            900          1132                   9  \n2     491272          37032           1217           600                   0  \n3     862979          63416           1348           780                   5  \n4     654132          48834            558          2838                  13  ",
      "text/html": "<div>\n<style scoped>\n    .dataframe tbody tr th:only-of-type {\n        vertical-align: middle;\n    }\n\n    .dataframe tbody tr th {\n        vertical-align: top;\n    }\n\n    .dataframe thead th {\n        text-align: right;\n    }\n</style>\n<table border=\"1\" class=\"dataframe\">\n  <thead>\n    <tr style=\"text-align: right;\">\n      <th></th>\n      <th>player_id</th>\n      <th>trophies</th>\n      <th>highestTrophies</th>\n      <th>highestPowerPlayPoints</th>\n      <th>expLevel</th>\n      <th>expPoints</th>\n      <th>3vs3Victories</th>\n      <th>soloVictories</th>\n      <th>duoVictories</th>\n      <th>bestRoboRumbleTime</th>\n    </tr>\n  </thead>\n  <tbody>\n    <tr>\n      <th>0</th>\n      <td>#8Y9QGR0U</td>\n      <td>41103</td>\n      <td>42113</td>\n      <td>544.0</td>\n      <td>247</td>\n      <td>313184</td>\n      <td>18746</td>\n      <td>1332</td>\n      <td>663</td>\n      <td>1</td>\n    </tr>\n    <tr>\n      <th>1</th>\n      <td>#99QU9PU2</td>\n      <td>51754</td>\n      <td>55004</td>\n      <td>1204.0</td>\n      <td>411</td>\n      <td>858011</td>\n      <td>64497</td>\n      <td>900</td>\n      <td>1132</td>\n      <td>9</td>\n    </tr>\n    <tr>\n      <th>2</th>\n      <td>#GG9YJJY</td>\n      <td>21897</td>\n      <td>35635</td>\n      <td>1013.0</td>\n      <td>310</td>\n      <td>491272</td>\n      <td>37032</td>\n      <td>1217</td>\n      <td>600</td>\n      <td>0</td>\n    </tr>\n    <tr>\n      <th>3</th>\n      <td>#VJUQ0Y</td>\n      <td>57372</td>\n      <td>61076</td>\n      <td>1380.0</td>\n      <td>412</td>\n      <td>862979</td>\n      <td>63416</td>\n      <td>1348</td>\n      <td>780</td>\n      <td>5</td>\n    </tr>\n    <tr>\n      <th>4</th>\n      <td>#PJGGV2Q80</td>\n      <td>59129</td>\n      <td>61757</td>\n      <td>1362.0</td>\n      <td>359</td>\n      <td>654132</td>\n      <td>48834</td>\n      <td>558</td>\n      <td>2838</td>\n      <td>13</td>\n    </tr>\n  </tbody>\n</table>\n</div>"
     },
     "execution_count": 254,
     "metadata": {},
     "output_type": "execute_result"
    }
   ],
   "source": [
    "clustered_data = metadata_prepared; clustered_data.head()"
   ],
   "metadata": {
    "collapsed": false
   }
  },
  {
   "cell_type": "code",
   "execution_count": 255,
   "outputs": [
    {
     "name": "stdout",
     "output_type": "stream",
     "text": [
      "NAN values per column:  highestPowerPlayPoints    322\n",
      "dtype: int64\n"
     ]
    }
   ],
   "source": [
    "nan_per_col = clustered_data.isna().sum()\n",
    "print('NAN values per column: ', nan_per_col[nan_per_col > 0])"
   ],
   "metadata": {
    "collapsed": false
   }
  },
  {
   "cell_type": "markdown",
   "source": [
    "Since `highestPowerPlayPoints` refers to the highest score in a competitive mode\n",
    "that is no longer active, we will remove it. After all, according to [Brawlstars\n",
    "Wiki](https://brawlstars.fandom.com/wiki/Power_Play#:~:text=Power%20Play%20Points&text=The%20total%20number%20of%20Power,could%20be%20earned%20is%201386) this competitive mode could be unlocked after earning a Star Power for any Brawler,\n",
    "meaning that won't be a descriptive attribute for every player."
   ],
   "metadata": {
    "collapsed": false
   }
  },
  {
   "cell_type": "code",
   "execution_count": 256,
   "outputs": [
    {
     "data": {
      "text/plain": "    player_id  trophies  highestTrophies  expLevel  expPoints  3vs3Victories  \\\n0   #8Y9QGR0U     41103            42113       247     313184          18746   \n1   #99QU9PU2     51754            55004       411     858011          64497   \n2    #GG9YJJY     21897            35635       310     491272          37032   \n3     #VJUQ0Y     57372            61076       412     862979          63416   \n4  #PJGGV2Q80     59129            61757       359     654132          48834   \n\n   soloVictories  duoVictories  bestRoboRumbleTime  \n0           1332           663                   1  \n1            900          1132                   9  \n2           1217           600                   0  \n3           1348           780                   5  \n4            558          2838                  13  ",
      "text/html": "<div>\n<style scoped>\n    .dataframe tbody tr th:only-of-type {\n        vertical-align: middle;\n    }\n\n    .dataframe tbody tr th {\n        vertical-align: top;\n    }\n\n    .dataframe thead th {\n        text-align: right;\n    }\n</style>\n<table border=\"1\" class=\"dataframe\">\n  <thead>\n    <tr style=\"text-align: right;\">\n      <th></th>\n      <th>player_id</th>\n      <th>trophies</th>\n      <th>highestTrophies</th>\n      <th>expLevel</th>\n      <th>expPoints</th>\n      <th>3vs3Victories</th>\n      <th>soloVictories</th>\n      <th>duoVictories</th>\n      <th>bestRoboRumbleTime</th>\n    </tr>\n  </thead>\n  <tbody>\n    <tr>\n      <th>0</th>\n      <td>#8Y9QGR0U</td>\n      <td>41103</td>\n      <td>42113</td>\n      <td>247</td>\n      <td>313184</td>\n      <td>18746</td>\n      <td>1332</td>\n      <td>663</td>\n      <td>1</td>\n    </tr>\n    <tr>\n      <th>1</th>\n      <td>#99QU9PU2</td>\n      <td>51754</td>\n      <td>55004</td>\n      <td>411</td>\n      <td>858011</td>\n      <td>64497</td>\n      <td>900</td>\n      <td>1132</td>\n      <td>9</td>\n    </tr>\n    <tr>\n      <th>2</th>\n      <td>#GG9YJJY</td>\n      <td>21897</td>\n      <td>35635</td>\n      <td>310</td>\n      <td>491272</td>\n      <td>37032</td>\n      <td>1217</td>\n      <td>600</td>\n      <td>0</td>\n    </tr>\n    <tr>\n      <th>3</th>\n      <td>#VJUQ0Y</td>\n      <td>57372</td>\n      <td>61076</td>\n      <td>412</td>\n      <td>862979</td>\n      <td>63416</td>\n      <td>1348</td>\n      <td>780</td>\n      <td>5</td>\n    </tr>\n    <tr>\n      <th>4</th>\n      <td>#PJGGV2Q80</td>\n      <td>59129</td>\n      <td>61757</td>\n      <td>359</td>\n      <td>654132</td>\n      <td>48834</td>\n      <td>558</td>\n      <td>2838</td>\n      <td>13</td>\n    </tr>\n  </tbody>\n</table>\n</div>"
     },
     "execution_count": 256,
     "metadata": {},
     "output_type": "execute_result"
    }
   ],
   "source": [
    "clustered_data = clustered_data.drop('highestPowerPlayPoints', axis=1)\n",
    "clustered_data.head()"
   ],
   "metadata": {
    "collapsed": false
   }
  },
  {
   "cell_type": "markdown",
   "source": [
    "Before training a `KMeans` model, it's necessary to prepare the data by scaling it and\n",
    "selecting the appropriate features. As I mentioned in one on my [experiments](https://github.com/robguilarr/Machine-Learning-Sandbox/blob/master/source/experiments/unsupervised_machine_learning/KMeans.ipynb), in cases when we have\n",
    "sparse data or features with very different scales, and we want to preserve the\n",
    "sparsity and relative magnitudes of the data we should use `MaxAbsScaler`, which is a\n",
    " scaler that scales each feature by its maximum absolute value."
   ],
   "metadata": {
    "collapsed": false
   }
  },
  {
   "cell_type": "code",
   "execution_count": 257,
   "outputs": [],
   "source": [
    "from sklearn.preprocessing import MaxAbsScaler\n",
    "\n",
    "X = clustered_data.drop('player_id', axis=1)\n",
    "y = clustered_data['player_id']\n",
    "\n",
    "maxAbsScaler = MaxAbsScaler()\n",
    "X_scaled = maxAbsScaler.fit_transform(X)\n",
    "X_scaled = pd.DataFrame(X_scaled, columns=X.columns)"
   ],
   "metadata": {
    "collapsed": false
   }
  },
  {
   "cell_type": "code",
   "execution_count": 258,
   "outputs": [
    {
     "name": "stdout",
     "output_type": "stream",
     "text": [
      "True\n"
     ]
    },
    {
     "data": {
      "text/plain": "   trophies  highestTrophies  expLevel  expPoints  3vs3Victories  \\\n0  0.568357         0.508464     0.494   0.241649       0.147135   \n1  0.715635         0.664107     0.822   0.662031       0.506228   \n2  0.302784         0.430250     0.620   0.379060       0.290659   \n3  0.793318         0.737419     0.824   0.665864       0.497743   \n4  0.817614         0.745641     0.718   0.504721       0.383291   \n\n   soloVictories  duoVictories  bestRoboRumbleTime  \n0       0.069242      0.019330                0.05  \n1       0.046785      0.033004                0.45  \n2       0.063264      0.017493                0.00  \n3       0.070073      0.022741                0.25  \n4       0.029007      0.082743                0.65  ",
      "text/html": "<div>\n<style scoped>\n    .dataframe tbody tr th:only-of-type {\n        vertical-align: middle;\n    }\n\n    .dataframe tbody tr th {\n        vertical-align: top;\n    }\n\n    .dataframe thead th {\n        text-align: right;\n    }\n</style>\n<table border=\"1\" class=\"dataframe\">\n  <thead>\n    <tr style=\"text-align: right;\">\n      <th></th>\n      <th>trophies</th>\n      <th>highestTrophies</th>\n      <th>expLevel</th>\n      <th>expPoints</th>\n      <th>3vs3Victories</th>\n      <th>soloVictories</th>\n      <th>duoVictories</th>\n      <th>bestRoboRumbleTime</th>\n    </tr>\n  </thead>\n  <tbody>\n    <tr>\n      <th>0</th>\n      <td>0.568357</td>\n      <td>0.508464</td>\n      <td>0.494</td>\n      <td>0.241649</td>\n      <td>0.147135</td>\n      <td>0.069242</td>\n      <td>0.019330</td>\n      <td>0.05</td>\n    </tr>\n    <tr>\n      <th>1</th>\n      <td>0.715635</td>\n      <td>0.664107</td>\n      <td>0.822</td>\n      <td>0.662031</td>\n      <td>0.506228</td>\n      <td>0.046785</td>\n      <td>0.033004</td>\n      <td>0.45</td>\n    </tr>\n    <tr>\n      <th>2</th>\n      <td>0.302784</td>\n      <td>0.430250</td>\n      <td>0.620</td>\n      <td>0.379060</td>\n      <td>0.290659</td>\n      <td>0.063264</td>\n      <td>0.017493</td>\n      <td>0.00</td>\n    </tr>\n    <tr>\n      <th>3</th>\n      <td>0.793318</td>\n      <td>0.737419</td>\n      <td>0.824</td>\n      <td>0.665864</td>\n      <td>0.497743</td>\n      <td>0.070073</td>\n      <td>0.022741</td>\n      <td>0.25</td>\n    </tr>\n    <tr>\n      <th>4</th>\n      <td>0.817614</td>\n      <td>0.745641</td>\n      <td>0.718</td>\n      <td>0.504721</td>\n      <td>0.383291</td>\n      <td>0.029007</td>\n      <td>0.082743</td>\n      <td>0.65</td>\n    </tr>\n  </tbody>\n</table>\n</div>"
     },
     "execution_count": 258,
     "metadata": {},
     "output_type": "execute_result"
    }
   ],
   "source": [
    "print(len(y) == len(X_scaled))\n",
    "X_scaled.head()"
   ],
   "metadata": {
    "collapsed": false
   }
  },
  {
   "cell_type": "markdown",
   "source": [
    "## Feature reduction\n",
    "\n",
    "In this case, we'll select the variables that can give us the better\n",
    "performance given a model construction, this means to test the features that can give\n",
    " us the best model performance. So we have to consider 3 options:\n",
    "\n",
    "- `VarianceThreshold`: This method removes all features whose variance doesn't meet a\n",
    "certain threshold. This technique is useful when your dataset has many features with\n",
    "low variance and can be removed without affecting the model's performance.\n",
    "\n",
    "- `SelectKBest`: This technique selects the K most significant features based on\n",
    "statistical tests such as chi-squared or ANOVA. You can choose the best K features by\n",
    " evaluating the model's performance on a validation set.\n",
    "\n",
    "- `Recursive Feature Elimination`: This method recursively removes features and\n",
    "evaluates the model's performance until the optimal number of features is reached.\n",
    "This method uses a model to assess the feature's importance and removes the least\n",
    "important ones iteratively.\n",
    "\n",
    "Said this the most appropiate techniques we should use are `SelectKBest` and\n",
    "`Recursive Feature Elimination`, but we are going to move for the first one, since\n",
    "the second one is more compute intensive.\n",
    "\n",
    "Here we are going to select `n_features_to_select` as 3 to consider the selection of\n",
    "features to represent:\n",
    "- Player capacity of earning credits (trophies)\n",
    "- Capacity of being a team player (3v3 and Duo victories)\n",
    "- Solo skills (Solo victories)"
   ],
   "metadata": {
    "collapsed": false
   }
  },
  {
   "cell_type": "code",
   "execution_count": 259,
   "outputs": [],
   "source": [
    "from sklearn.feature_selection import SelectKBest, f_classif\n",
    "\n",
    "selector = SelectKBest(f_classif, k=3)"
   ],
   "metadata": {
    "collapsed": false
   }
  },
  {
   "cell_type": "markdown",
   "source": [
    "The `SelectKBest` function selects the top k features with the highest scores\n",
    "according to the `f_classif` function, which measures the correlation between the\n",
    "features and the target variable. `k=4` is specified as the number of top features to\n",
    "select."
   ],
   "metadata": {
    "collapsed": false
   }
  },
  {
   "cell_type": "code",
   "execution_count": 260,
   "outputs": [],
   "source": [
    "from sklearn.compose import ColumnTransformer\n",
    "\n",
    "preprocessor = ColumnTransformer(transformers=[\n",
    "    ('num', selector, X.columns)\n",
    "])\n",
    "preprocessor.fit(X_scaled,y)\n",
    "X_features = preprocessor.transform(X_scaled)"
   ],
   "metadata": {
    "collapsed": false
   }
  },
  {
   "cell_type": "markdown",
   "source": [
    "Next, the `get_support()` method is used to get a boolean mask indicating which\n",
    "features were selected.\n",
    "\n",
    "The indices of the selected features are extracted using the `indices` argument, and\n",
    "the corresponding column names are extracted using pandas indexing."
   ],
   "metadata": {
    "collapsed": false
   }
  },
  {
   "cell_type": "code",
   "execution_count": 261,
   "outputs": [
    {
     "data": {
      "text/plain": "   expPoints  3vs3Victories  duoVictories\n0   0.241649       0.147135      0.019330\n1   0.662031       0.506228      0.033004\n2   0.379060       0.290659      0.017493\n3   0.665864       0.497743      0.022741\n4   0.504721       0.383291      0.082743",
      "text/html": "<div>\n<style scoped>\n    .dataframe tbody tr th:only-of-type {\n        vertical-align: middle;\n    }\n\n    .dataframe tbody tr th {\n        vertical-align: top;\n    }\n\n    .dataframe thead th {\n        text-align: right;\n    }\n</style>\n<table border=\"1\" class=\"dataframe\">\n  <thead>\n    <tr style=\"text-align: right;\">\n      <th></th>\n      <th>expPoints</th>\n      <th>3vs3Victories</th>\n      <th>duoVictories</th>\n    </tr>\n  </thead>\n  <tbody>\n    <tr>\n      <th>0</th>\n      <td>0.241649</td>\n      <td>0.147135</td>\n      <td>0.019330</td>\n    </tr>\n    <tr>\n      <th>1</th>\n      <td>0.662031</td>\n      <td>0.506228</td>\n      <td>0.033004</td>\n    </tr>\n    <tr>\n      <th>2</th>\n      <td>0.379060</td>\n      <td>0.290659</td>\n      <td>0.017493</td>\n    </tr>\n    <tr>\n      <th>3</th>\n      <td>0.665864</td>\n      <td>0.497743</td>\n      <td>0.022741</td>\n    </tr>\n    <tr>\n      <th>4</th>\n      <td>0.504721</td>\n      <td>0.383291</td>\n      <td>0.082743</td>\n    </tr>\n  </tbody>\n</table>\n</div>"
     },
     "execution_count": 261,
     "metadata": {},
     "output_type": "execute_result"
    }
   ],
   "source": [
    "# Get index number of new feature-selected data\n",
    "new_columns_index = preprocessor.named_transformers_['num'].get_support(indices=True)\n",
    "# Get column names of new feature-selected data\n",
    "new_columns_names = (clustered_data.drop('player_id', axis=1)\n",
    "                     .iloc[:, new_columns_index]\n",
    "                     .columns)\n",
    "# Create dataframe with subset of features\n",
    "X_features = pd.DataFrame(X_features, columns=new_columns_names)\n",
    "X_features.head()"
   ],
   "metadata": {
    "collapsed": false
   }
  },
  {
   "cell_type": "markdown",
   "source": [],
   "metadata": {
    "collapsed": false
   }
  },
  {
   "cell_type": "markdown",
   "source": [
    "Now let's train the model, we first need to instantiate the KMeans class from\n",
    "scikit-learn, and specify the number of clusters `(n_clusters)` and other\n",
    "hyperparameters.\n",
    "\n",
    "Let's also consider the application of multiple hyperparameters, to select the number\n",
    " of clusters that produce the maximum score number."
   ],
   "metadata": {
    "collapsed": false
   }
  },
  {
   "cell_type": "code",
   "execution_count": 262,
   "outputs": [
    {
     "name": "stdout",
     "output_type": "stream",
     "text": [
      "Best Parameters: {'init': 'random', 'max_iter': 100, 'n_clusters': 5, 'tol': 0.01}\n",
      "Best Score: -46.60\n"
     ]
    }
   ],
   "source": [
    "from sklearn.cluster import KMeans\n",
    "from sklearn.model_selection import GridSearchCV\n",
    "\n",
    "params = {\n",
    "    \"n_clusters\": [2, 3, 4, 5],\n",
    "    \"init\": [\"k-means++\", \"random\"],\n",
    "    \"max_iter\": [100, 200, 300],\n",
    "    \"tol\": [0.0001, 0.001, 0.01]\n",
    "}\n",
    "\n",
    "grid_search = GridSearchCV(KMeans(random_state=42), param_grid=params, cv=5)\n",
    "grid_search.fit(X_features)\n",
    "\n",
    "best_params = grid_search.best_params_\n",
    "best_score = grid_search.best_score_\n",
    "\n",
    "print(f\"Best Parameters: {best_params}\")\n",
    "print(f\"Best Score: {best_score:.2f}\")"
   ],
   "metadata": {
    "collapsed": false
   }
  },
  {
   "cell_type": "markdown",
   "source": [
    "Also we can study the inertia between points and clusters"
   ],
   "metadata": {
    "collapsed": false
   }
  },
  {
   "cell_type": "code",
   "execution_count": 263,
   "outputs": [
    {
     "data": {
      "text/plain": "<Figure size 640x480 with 1 Axes>",
      "image/png": "[encoded data removed]"
     },
     "metadata": {},
     "output_type": "display_data"
    }
   ],
   "source": [
    "ks = range(2, 20)\n",
    "inertias = []\n",
    "\n",
    "for k in ks:\n",
    "    # Create a KMeans instance with k clusters: model\n",
    "    model = KMeans(n_clusters=k, random_state=42)\n",
    "\n",
    "    # Fit model to samples\n",
    "    model.fit(X_features)\n",
    "\n",
    "    # Append the inertia to the list of inertias\n",
    "    inertias.append(model.inertia_)\n",
    "\n",
    "# Plot ks vs inertias\n",
    "plt.plot(ks, inertias, '-o')\n",
    "plt.xlabel('number of clusters, k')\n",
    "plt.ylabel('inertia')\n",
    "plt.xticks(ks)\n",
    "plt.show()"
   ],
   "metadata": {
    "collapsed": false
   }
  },
  {
   "cell_type": "code",
   "execution_count": 264,
   "outputs": [
    {
     "ename": "IndexError",
     "evalue": "index 4 is out of bounds for axis 1 with size 4",
     "output_type": "error",
     "traceback": [
      "\u001B[1;31m---------------------------------------------------------------------------\u001B[0m",
      "\u001B[1;31mIndexError\u001B[0m                                Traceback (most recent call last)",
      "\u001B[1;32m~\\AppData\\Local\\Temp\\ipykernel_21392\\4220626035.py\u001B[0m in \u001B[0;36m<cell line: 4>\u001B[1;34m()\u001B[0m\n\u001B[0;32m      2\u001B[0m \u001B[1;33m\u001B[0m\u001B[0m\n\u001B[0;32m      3\u001B[0m \u001B[0mcentroids\u001B[0m \u001B[1;33m=\u001B[0m \u001B[0mkmeans\u001B[0m\u001B[1;33m.\u001B[0m\u001B[0mcluster_centers_\u001B[0m\u001B[1;33m\u001B[0m\u001B[1;33m\u001B[0m\u001B[0m\n\u001B[1;32m----> 4\u001B[1;33m \u001B[0mcentroids_x\u001B[0m \u001B[1;33m=\u001B[0m \u001B[0mcentroids\u001B[0m\u001B[1;33m[\u001B[0m\u001B[1;33m:\u001B[0m\u001B[1;33m,\u001B[0m\u001B[1;36m4\u001B[0m\u001B[1;33m]\u001B[0m\u001B[1;33m\u001B[0m\u001B[1;33m\u001B[0m\u001B[0m\n\u001B[0m\u001B[0;32m      5\u001B[0m \u001B[0mcentroids_y\u001B[0m \u001B[1;33m=\u001B[0m \u001B[0mcentroids\u001B[0m\u001B[1;33m[\u001B[0m\u001B[1;33m:\u001B[0m\u001B[1;33m,\u001B[0m\u001B[1;36m5\u001B[0m\u001B[1;33m]\u001B[0m\u001B[1;33m\u001B[0m\u001B[1;33m\u001B[0m\u001B[0m\n\u001B[0;32m      6\u001B[0m \u001B[1;33m\u001B[0m\u001B[0m\n",
      "\u001B[1;31mIndexError\u001B[0m: index 4 is out of bounds for axis 1 with size 4"
     ]
    }
   ],
   "source": [
    "import matplotlib.pyplot as plt\n",
    "\n",
    "centroids = kmeans.cluster_centers_\n",
    "centroids_x = centroids[:,4]\n",
    "centroids_y = centroids[:,5]\n",
    "\n",
    "ys = maxAbsScaler.fit_transform(clustered_data[\"soloVictories\"].values.reshape(-1,1))\n",
    "xs = maxAbsScaler.fit_transform(clustered_data[\"3vs3Victories\"].values.reshape(-1,1))\n",
    "plt.scatter(xs, ys, c=labels, alpha=0.1)\n",
    "\n",
    "plt.scatter(centroids_x, centroids_y, marker='D', s=50, c= 'red')\n",
    "plt.show()"
   ],
   "metadata": {
    "collapsed": false
   }
  },
  {
   "cell_type": "code",
   "execution_count": null,
   "outputs": [],
   "source": [
    "centroids\n"
   ],
   "metadata": {
    "collapsed": false
   }
  },
  {
   "cell_type": "markdown",
   "source": [
    "## Conclussions\n",
    "\n",
    "After clustering the players, we can draw conclusions about their performance, skill\n",
    "level, and the game mode in which they excel.\n",
    "\n",
    "For example, if a particular cluster has players with high trophies, 3vs3 victories,\n",
    "and best RoboRumbleTime, they could be classified as highly skilled players with good\n",
    " teamwork and PvE abilities. Similarly, a cluster with players having high solo and\n",
    " duo victories could be classified as excellent solo and duo players.\n",
    "\n",
    "Overall, clustering can help you understand player behavior and preferences, and we\n",
    "can use these insights to improve the game experience for the players."
   ],
   "metadata": {
    "collapsed": false
   }
  }
 ],
 "metadata": {
  "kernelspec": {
   "display_name": "Python 3",
   "language": "python",
   "name": "python3"
  },
  "language_info": {
   "codemirror_mode": {
    "name": "ipython",
    "version": 2
   },
   "file_extension": ".py",
   "mimetype": "text/x-python",
   "name": "python",
   "nbconvert_exporter": "python",
   "pygments_lexer": "ipython2",
   "version": "2.7.6"
  }
 },
 "nbformat": 4,
 "nbformat_minor": 0
}
